{
  "nbformat": 4,
  "nbformat_minor": 0,
  "metadata": {
    "colab": {
      "name": "1192_images Tom and Jerry.ipynb",
      "provenance": [],
      "collapsed_sections": [],
      "machine_shape": "hm"
    },
    "kernelspec": {
      "name": "python3",
      "display_name": "Python 3"
    },
    "accelerator": "GPU"
  },
  "cells": [
    {
      "cell_type": "code",
      "metadata": {
        "id": "DnjzA9k-CwlH",
        "colab_type": "code",
        "colab": {}
      },
      "source": [
        "#Importing necessary Libraries\n",
        "from google.colab import drive\n",
        "import tensorflow as tf\n",
        "from PIL import Image\n",
        "import numpy as np\n",
        "import matplotlib.pyplot as plt\n",
        "import pandas as pd\n",
        "import os\n",
        "from PIL import ImageFilter\n",
        "import PIL.ImageOps  \n",
        "import cv2\n",
        "from numpy import argmax\n",
        "from sklearn.preprocessing import LabelEncoder\n",
        "from sklearn.preprocessing import OneHotEncoder\n",
        "from sklearn.model_selection import train_test_split # for splitting training and testing\n"
      ],
      "execution_count": 0,
      "outputs": []
    },
    {
      "cell_type": "code",
      "metadata": {
        "id": "DK2DnCpQC-NU",
        "colab_type": "code",
        "outputId": "47e6c65f-3b27-4de8-9e9c-4a3b901085ed",
        "colab": {
          "base_uri": "https://localhost:8080/",
          "height": 124
        }
      },
      "source": [
        "#Mounting Google Drive\n",
        "drive.mount('/content/drive/')"
      ],
      "execution_count": 0,
      "outputs": [
        {
          "output_type": "stream",
          "text": [
            "Go to this URL in a browser: https://accounts.google.com/o/oauth2/auth?client_id=947318989803-6bn6qk8qdgf4n4g3pfee6491hc0brc4i.apps.googleusercontent.com&redirect_uri=urn%3aietf%3awg%3aoauth%3a2.0%3aoob&response_type=code&scope=email%20https%3a%2f%2fwww.googleapis.com%2fauth%2fdocs.test%20https%3a%2f%2fwww.googleapis.com%2fauth%2fdrive%20https%3a%2f%2fwww.googleapis.com%2fauth%2fdrive.photos.readonly%20https%3a%2f%2fwww.googleapis.com%2fauth%2fpeopleapi.readonly\n",
            "\n",
            "Enter your authorization code:\n",
            "··········\n",
            "Mounted at /content/drive/\n"
          ],
          "name": "stdout"
        }
      ]
    },
    {
      "cell_type": "code",
      "metadata": {
        "id": "PzjHLa7gC_vp",
        "colab_type": "code",
        "colab": {}
      },
      "source": [
        "os.chdir('/content/drive/My Drive/Dataset Tom and Jerry/')"
      ],
      "execution_count": 0,
      "outputs": []
    },
    {
      "cell_type": "markdown",
      "metadata": {
        "id": "EzIxS6-syKaG",
        "colab_type": "text"
      },
      "source": [
        "### ***Creation of Training Dataset***"
      ]
    },
    {
      "cell_type": "code",
      "metadata": {
        "id": "u9L3e6CGssXp",
        "colab_type": "code",
        "colab": {}
      },
      "source": [
        "#Converting video into images by extracting frames from the training video.\n",
        "i=0\n",
        "count=0\n",
        "cap = cv2.VideoCapture('Train Tom and Jerry.mp4')\n",
        "frame_rate = cap.get(cv2.CAP_PROP_FPS)\n",
        "while True:\n",
        "    cap.set(cv2.CAP_PROP_POS_FRAMES, count)\n",
        "    count += math.floor(frame_rate)\n",
        "    print(count)\n",
        "    ret, frame = cap.read()\n",
        "    \n",
        "    \n",
        "    if ret != True :\n",
        "        break\n",
        "        \n",
        "    cv2.imwrite(\"Train images/\"+\"frame\"+str(i)+\".jpg\",frame)\n",
        "    i+=1\n",
        "    \n",
        "cap.release()\n",
        "    \n"
      ],
      "execution_count": 0,
      "outputs": []
    },
    {
      "cell_type": "code",
      "metadata": {
        "id": "X3BJCRmhvIfV",
        "colab_type": "code",
        "colab": {}
      },
      "source": [
        "#Data Augmentation to increase the size of dataset using two techniques namely mirroring and Saturation using PIL Library. \n",
        "#Note that the augmented images have been saved manually in the same directory as the original training images.\n",
        "for i in range(len(b)):\n",
        "  image = Image.open(b[i])\n",
        "  image_flip = image.transpose(Image.FLIP_LEFT_RIGHT)\n",
        "  image_flip.save('flipped-'+b[i])\n",
        "\n",
        "\n",
        "\n",
        "for i in range(len(b)):\n",
        "    img = Image.open(b[i])\n",
        "    enhancer = ImageEnhance.Color(img)\n",
        "    img_saturation = enhancer.enhance(2)\n",
        "    img_saturation.save('saturation-'+b[i])\n",
        " "
      ],
      "execution_count": 0,
      "outputs": []
    },
    {
      "cell_type": "code",
      "metadata": {
        "id": "S84jr_cZDOJS",
        "colab_type": "code",
        "colab": {}
      },
      "source": [
        "os.chdir('/content/drive/My Drive/Dataset Tom and Jerry/Train images')"
      ],
      "execution_count": 0,
      "outputs": []
    },
    {
      "cell_type": "code",
      "metadata": {
        "id": "jjenayNxDTMA",
        "colab_type": "code",
        "outputId": "2c6c08af-4105-449b-dd2b-35a04811a0b3",
        "colab": {
          "base_uri": "https://localhost:8080/",
          "height": 35
        }
      },
      "source": [
        "b=os.listdir()\n",
        "len(b)"
      ],
      "execution_count": 0,
      "outputs": [
        {
          "output_type": "execute_result",
          "data": {
            "text/plain": [
              "1192"
            ]
          },
          "metadata": {
            "tags": []
          },
          "execution_count": 6
        }
      ]
    },
    {
      "cell_type": "code",
      "metadata": {
        "id": "yiRnToJ9DVIr",
        "colab_type": "code",
        "colab": {}
      },
      "source": [
        "#Resizing images to a shape of (224,224,3) and converting images into a numpy array. \n",
        "data=[]\n",
        "for i in range(len(b)):\n",
        "  image_arr = cv2.imread(b[i])\n",
        "  #data.append(image_arr)\n",
        "  data.append(cv2.resize(image_arr, (224,224), interpolation = cv2.INTER_CUBIC))"
      ],
      "execution_count": 0,
      "outputs": []
    },
    {
      "cell_type": "code",
      "metadata": {
        "id": "3IK0NKp-D7BJ",
        "colab_type": "code",
        "outputId": "e2989cc5-a801-4146-83a7-421b41b836b9",
        "colab": {
          "base_uri": "https://localhost:8080/",
          "height": 35
        }
      },
      "source": [
        "rgb_img = np.array((data))\n",
        "rgb_img.shape"
      ],
      "execution_count": 0,
      "outputs": [
        {
          "output_type": "execute_result",
          "data": {
            "text/plain": [
              "(1192, 224, 224, 3)"
            ]
          },
          "metadata": {
            "tags": []
          },
          "execution_count": 10
        }
      ]
    },
    {
      "cell_type": "code",
      "metadata": {
        "id": "2mmfl6OSD7De",
        "colab_type": "code",
        "colab": {}
      },
      "source": [
        "os.chdir('/content/drive/My Drive/Dataset Tom and Jerry/')"
      ],
      "execution_count": 0,
      "outputs": []
    },
    {
      "cell_type": "code",
      "metadata": {
        "id": "H0mLeS4LD7Gh",
        "colab_type": "code",
        "outputId": "b16d2ef1-6609-4f70-e118-0c97bf52eb68",
        "colab": {
          "base_uri": "https://localhost:8080/",
          "height": 35
        }
      },
      "source": [
        "#Reading the csv file to extract labels corresponding to each frame that we have extracted from the training video.\n",
        "csv = pd.read_csv('Train.csv')\n",
        "csv.shape[0]"
      ],
      "execution_count": 0,
      "outputs": [
        {
          "output_type": "execute_result",
          "data": {
            "text/plain": [
              "298"
            ]
          },
          "metadata": {
            "tags": []
          },
          "execution_count": 12
        }
      ]
    },
    {
      "cell_type": "code",
      "metadata": {
        "id": "r6v1HooONKWq",
        "colab_type": "code",
        "colab": {}
      },
      "source": [
        "#Labelling the frames to the corresponding labels\n",
        "label=[]\n",
        "for i in range(len(b)):\n",
        "  for j in range(csv.shape[0]):\n",
        "    if csv.iloc[j,0] in b[i]:\n",
        "      label.append(csv.iloc[j,1])\n"
      ],
      "execution_count": 0,
      "outputs": []
    },
    {
      "cell_type": "code",
      "metadata": {
        "id": "IExXW9dGImzN",
        "colab_type": "code",
        "outputId": "c64935cc-b7bf-4821-8e17-0c846d843045",
        "colab": {
          "base_uri": "https://localhost:8080/",
          "height": 35
        }
      },
      "source": [
        "classes=np.array((label))\n",
        "classes=classes.reshape(len(b),1)\n",
        "classes.shape"
      ],
      "execution_count": 0,
      "outputs": [
        {
          "output_type": "execute_result",
          "data": {
            "text/plain": [
              "(1192, 1)"
            ]
          },
          "metadata": {
            "tags": []
          },
          "execution_count": 17
        }
      ]
    },
    {
      "cell_type": "code",
      "metadata": {
        "id": "Wwt53tLQIo0s",
        "colab_type": "code",
        "colab": {}
      },
      "source": [
        "# integer encoding of the labels\n",
        "label_encoder = LabelEncoder()\n",
        "integer_encoded = label_encoder.fit_transform(classes)\n",
        "# One Hot Encoding of the labels\n",
        "onehot_encoder = OneHotEncoder(sparse=False)"
      ],
      "execution_count": 0,
      "outputs": []
    },
    {
      "cell_type": "code",
      "metadata": {
        "id": "Ma1YHMVoI1N_",
        "colab_type": "code",
        "outputId": "d0b9f53a-7ca8-4180-e4c3-c07fc85c85ad",
        "colab": {
          "base_uri": "https://localhost:8080/",
          "height": 35
        }
      },
      "source": [
        "integer_encoded = integer_encoded.reshape(len(integer_encoded), 1)\n",
        "y = onehot_encoder.fit_transform(integer_encoded)\n",
        "y.shape"
      ],
      "execution_count": 0,
      "outputs": [
        {
          "output_type": "execute_result",
          "data": {
            "text/plain": [
              "(1192, 5)"
            ]
          },
          "metadata": {
            "tags": []
          },
          "execution_count": 22
        }
      ]
    },
    {
      "cell_type": "code",
      "metadata": {
        "id": "UnsrQGOvI2gr",
        "colab_type": "code",
        "outputId": "dfe1e7d0-7468-4652-b19c-02855c8cf90d",
        "colab": {
          "base_uri": "https://localhost:8080/",
          "height": 286
        }
      },
      "source": [
        "plt.imshow(rgb_img[0])"
      ],
      "execution_count": 0,
      "outputs": [
        {
          "output_type": "execute_result",
          "data": {
            "text/plain": [
              "<matplotlib.image.AxesImage at 0x7f24f0da3ba8>"
            ]
          },
          "metadata": {
            "tags": []
          },
          "execution_count": 23
        },
        {
          "output_type": "display_data",
          "data": {
            "image/png": "[encoded data removed]",
            "text/plain": [
              "<Figure size 432x288 with 1 Axes>"
            ]
          },
          "metadata": {
            "tags": []
          }
        }
      ]
    },
    {
      "cell_type": "code",
      "metadata": {
        "id": "xSrzKdmTI4dc",
        "colab_type": "code",
        "colab": {}
      },
      "source": [
        ""
      ],
      "execution_count": 0,
      "outputs": []
    },
    {
      "cell_type": "code",
      "metadata": {
        "id": "j6H-j1XVJA3T",
        "colab_type": "code",
        "outputId": "c73949e2-7567-4c36-e01b-354c3b804982",
        "colab": {
          "base_uri": "https://localhost:8080/",
          "height": 35
        }
      },
      "source": [
        "#Splitting the data into training and validation sets\n",
        "from sklearn.model_selection import train_test_split\n",
        "x_train,x_valid,y_train,y_valid=train_test_split(rgb_img,y,random_state=1,test_size=0.25)\n",
        "x_train.shape,x_valid.shape,y_train.shape,y_valid.shape"
      ],
      "execution_count": 0,
      "outputs": [
        {
          "output_type": "execute_result",
          "data": {
            "text/plain": [
              "((894, 224, 224, 3), (298, 224, 224, 3), (894, 5), (298, 5))"
            ]
          },
          "metadata": {
            "tags": []
          },
          "execution_count": 25
        }
      ]
    },
    {
      "cell_type": "code",
      "metadata": {
        "id": "C2mu1_KoJC0Q",
        "colab_type": "code",
        "colab": {}
      },
      "source": [
        "#Normalizing the pixel values\n",
        "x_train= x_train/255\n",
        "x_valid = x_valid/255"
      ],
      "execution_count": 0,
      "outputs": []
    },
    {
      "cell_type": "code",
      "metadata": {
        "id": "j6kk__OOJGPI",
        "colab_type": "code",
        "colab": {}
      },
      "source": [
        "#Conversion into float32 datatype values\n",
        "x_train=np.array(x_train,dtype='float32')\n",
        "x_valid=np.array(x_valid,dtype='float32')\n",
        "y_train.astype(dtype='float32')\n",
        "y_valid.astype(dtype='float32')"
      ],
      "execution_count": 0,
      "outputs": []
    },
    {
      "cell_type": "markdown",
      "metadata": {
        "id": "XE5zVZP7GbH-",
        "colab_type": "text"
      },
      "source": [
        "# ***BUILDING THE MODEL FOR CLASSIFICATION OF IMAGES INTO 5 CLASSES OF EMOTIONS.***\n",
        "\n",
        "\n"
      ]
    },
    {
      "cell_type": "code",
      "metadata": {
        "id": "dja60AtpJIb8",
        "colab_type": "code",
        "colab": {}
      },
      "source": [
        "#Importing necessary libraries\n",
        "from tensorflow.keras.callbacks import ModelCheckpoint, EarlyStopping\n",
        "from tensorflow.keras import layers\n",
        "from tensorflow.keras.layers import Input, Dense, Activation, ZeroPadding2D, BatchNormalization, Flatten, Conv2D,LeakyReLU, ReLU, InputLayer\n",
        "from tensorflow.keras.layers import AveragePooling2D, MaxPooling2D, Dropout, GlobalMaxPooling2D, GlobalAveragePooling2D\n",
        "from tensorflow.keras.models import Model, Sequential\n",
        "from tensorflow.keras.preprocessing import image\n",
        "from sklearn.metrics import confusion_matrix\n",
        "import tensorflow.keras.backend as K\n",
        "K.set_image_data_format('channels_last')\n",
        "import matplotlib.pyplot as plt\n",
        "from matplotlib.pyplot import imshow\n",
        "from tensorflow.keras import optimizers\n",
        "%matplotlib inline"
      ],
      "execution_count": 0,
      "outputs": []
    },
    {
      "cell_type": "code",
      "metadata": {
        "id": "Z9IgA1WlJpW8",
        "colab_type": "code",
        "outputId": "21a051b2-9b89-4c2e-e1cd-a9971eb09187",
        "colab": {
          "base_uri": "https://localhost:8080/",
          "height": 639
        }
      },
      "source": [
        "#CNN MODEL\n",
        "\n",
        "model = Sequential()\n",
        "\n",
        "# First Layer\n",
        "model.add(Conv2D(filters=32,kernel_size=(3,3), padding='same',activation='relu',input_shape=(224,224,3)))\n",
        "\n",
        "model.add(Conv2D(filters=32,kernel_size=(3,3),strides=2,padding='same',activation='relu'))\n",
        "model.add(MaxPooling2D(pool_size=2,strides=2))\n",
        "model.add(Dropout(0.25))\n",
        "\n",
        "model.add(Conv2D(filters=64,kernel_size=(3,3),strides=2,padding='same',activation='relu'))\n",
        "model.add(MaxPooling2D(pool_size=2,strides=2))\n",
        "model.add(Dropout(0.25))\n",
        "\n",
        "model.add(Conv2D(filters=128,kernel_size=(3,3),strides=2,padding='same',activation='relu'))\n",
        "model.add(MaxPooling2D(pool_size=2,strides=2))\n",
        "model.add(Dropout(0.25))\n",
        "\n",
        "model.add(Flatten()) #Flattens the matrix into a vector\n",
        "model.add(Dense(256, activation='relu')) \n",
        "model.add(Dropout(0.25))\n",
        "model.add(Dense(5, activation='softmax')) \n",
        "model.summary()"
      ],
      "execution_count": 0,
      "outputs": [
        {
          "output_type": "stream",
          "text": [
            "Model: \"sequential\"\n",
            "_________________________________________________________________\n",
            "Layer (type)                 Output Shape              Param #   \n",
            "=================================================================\n",
            "conv2d (Conv2D)              (None, 224, 224, 32)      896       \n",
            "_________________________________________________________________\n",
            "conv2d_1 (Conv2D)            (None, 112, 112, 32)      9248      \n",
            "_________________________________________________________________\n",
            "max_pooling2d (MaxPooling2D) (None, 56, 56, 32)        0         \n",
            "_________________________________________________________________\n",
            "dropout (Dropout)            (None, 56, 56, 32)        0         \n",
            "_________________________________________________________________\n",
            "conv2d_2 (Conv2D)            (None, 28, 28, 64)        18496     \n",
            "_________________________________________________________________\n",
            "max_pooling2d_1 (MaxPooling2 (None, 14, 14, 64)        0         \n",
            "_________________________________________________________________\n",
            "dropout_1 (Dropout)          (None, 14, 14, 64)        0         \n",
            "_________________________________________________________________\n",
            "conv2d_3 (Conv2D)            (None, 7, 7, 128)         73856     \n",
            "_________________________________________________________________\n",
            "max_pooling2d_2 (MaxPooling2 (None, 3, 3, 128)         0         \n",
            "_________________________________________________________________\n",
            "dropout_2 (Dropout)          (None, 3, 3, 128)         0         \n",
            "_________________________________________________________________\n",
            "flatten (Flatten)            (None, 1152)              0         \n",
            "_________________________________________________________________\n",
            "dense (Dense)                (None, 256)               295168    \n",
            "_________________________________________________________________\n",
            "dropout_3 (Dropout)          (None, 256)               0         \n",
            "_________________________________________________________________\n",
            "dense_1 (Dense)              (None, 5)                 1285      \n",
            "=================================================================\n",
            "Total params: 398,949\n",
            "Trainable params: 398,949\n",
            "Non-trainable params: 0\n",
            "_________________________________________________________________\n"
          ],
          "name": "stdout"
        }
      ]
    },
    {
      "cell_type": "code",
      "metadata": {
        "id": "uVn7OxwUJggw",
        "colab_type": "code",
        "colab": {}
      },
      "source": [
        "#Optimising the cost\n",
        "adam = optimizers.Adam(lr=0.001)\n",
        "model.compile(optimizer= 'Adam', \n",
        "              loss='categorical_crossentropy', \n",
        "              metrics=['accuracy']) #Compiling the model"
      ],
      "execution_count": 0,
      "outputs": []
    },
    {
      "cell_type": "code",
      "metadata": {
        "id": "e9PaOCfKKoWd",
        "colab_type": "code",
        "outputId": "415fd08d-7fa2-4184-c32e-b8e3a40ce51e",
        "colab": {
          "base_uri": "https://localhost:8080/",
          "height": 1000
        }
      },
      "source": [
        "\n",
        "from keras.callbacks import ModelCheckpoint  #Checkpoint to save the best weights of the model.\n",
        "\n",
        "#checkpointer = ModelCheckpoint(filepath=\"model_1.h5\",   \n",
        "#                               monitor = \"val_acc\", \n",
        "#                               mode = \"max\",\n",
        "#                               verbose=1, \n",
        "#                               save_best_only=True) \n",
        "\n",
        "earlystop = EarlyStopping(monitor = 'val_acc', # value being monitored for improvement\n",
        "                          mode = \"max\",\n",
        "                          min_delta = 0, #Abs value and is the min change required before we stop\n",
        "                          patience = 5, #Number of epochs we wait before stopping \n",
        "                          verbose = 1) #keeps the best weigths once stopped\n",
        "\n",
        "history = model.fit(x_train, y_train, \n",
        "          validation_data=(x_valid,y_valid), \n",
        "          epochs=20, batch_size=32, callbacks=[earlystop], verbose=1,shuffle=True)"
      ],
      "execution_count": 0,
      "outputs": [
        {
          "output_type": "stream",
          "text": [
            "Epoch 1/20\n",
            "27/28 [===========================>..] - ETA: 0s - loss: 0.2794 - accuracy: 0.9167WARNING:tensorflow:Early stopping conditioned on metric `val_acc` which is not available. Available metrics are: loss,accuracy,val_loss,val_accuracy\n",
            "28/28 [==============================] - 1s 40ms/step - loss: 0.2726 - accuracy: 0.9195 - val_loss: 0.4891 - val_accuracy: 0.8289\n",
            "Epoch 2/20\n",
            "27/28 [===========================>..] - ETA: 0s - loss: 0.2107 - accuracy: 0.9236WARNING:tensorflow:Early stopping conditioned on metric `val_acc` which is not available. Available metrics are: loss,accuracy,val_loss,val_accuracy\n",
            "28/28 [==============================] - 1s 40ms/step - loss: 0.2123 - accuracy: 0.9251 - val_loss: 0.5188 - val_accuracy: 0.8490\n",
            "Epoch 3/20\n",
            "27/28 [===========================>..] - ETA: 0s - loss: 0.2046 - accuracy: 0.9317WARNING:tensorflow:Early stopping conditioned on metric `val_acc` which is not available. Available metrics are: loss,accuracy,val_loss,val_accuracy\n",
            "28/28 [==============================] - 1s 39ms/step - loss: 0.2018 - accuracy: 0.9329 - val_loss: 0.5007 - val_accuracy: 0.8557\n",
            "Epoch 4/20\n",
            "27/28 [===========================>..] - ETA: 0s - loss: 0.1781 - accuracy: 0.9294WARNING:tensorflow:Early stopping conditioned on metric `val_acc` which is not available. Available metrics are: loss,accuracy,val_loss,val_accuracy\n",
            "28/28 [==============================] - 1s 39ms/step - loss: 0.1775 - accuracy: 0.9295 - val_loss: 0.5124 - val_accuracy: 0.8523\n",
            "Epoch 5/20\n",
            "27/28 [===========================>..] - ETA: 0s - loss: 0.1737 - accuracy: 0.9387WARNING:tensorflow:Early stopping conditioned on metric `val_acc` which is not available. Available metrics are: loss,accuracy,val_loss,val_accuracy\n",
            "28/28 [==============================] - 1s 39ms/step - loss: 0.1816 - accuracy: 0.9351 - val_loss: 0.5136 - val_accuracy: 0.8490\n",
            "Epoch 6/20\n",
            "27/28 [===========================>..] - ETA: 0s - loss: 0.1975 - accuracy: 0.9363WARNING:tensorflow:Early stopping conditioned on metric `val_acc` which is not available. Available metrics are: loss,accuracy,val_loss,val_accuracy\n",
            "28/28 [==============================] - 1s 39ms/step - loss: 0.2047 - accuracy: 0.9351 - val_loss: 0.5220 - val_accuracy: 0.8490\n",
            "Epoch 7/20\n",
            "27/28 [===========================>..] - ETA: 0s - loss: 0.1963 - accuracy: 0.9410WARNING:tensorflow:Early stopping conditioned on metric `val_acc` which is not available. Available metrics are: loss,accuracy,val_loss,val_accuracy\n",
            "28/28 [==============================] - 1s 40ms/step - loss: 0.1912 - accuracy: 0.9430 - val_loss: 0.5220 - val_accuracy: 0.8691\n",
            "Epoch 8/20\n",
            "27/28 [===========================>..] - ETA: 0s - loss: 0.1722 - accuracy: 0.9410WARNING:tensorflow:Early stopping conditioned on metric `val_acc` which is not available. Available metrics are: loss,accuracy,val_loss,val_accuracy\n",
            "28/28 [==============================] - 1s 39ms/step - loss: 0.1674 - accuracy: 0.9418 - val_loss: 0.6099 - val_accuracy: 0.8557\n",
            "Epoch 9/20\n",
            "27/28 [===========================>..] - ETA: 0s - loss: 0.1673 - accuracy: 0.9410WARNING:tensorflow:Early stopping conditioned on metric `val_acc` which is not available. Available metrics are: loss,accuracy,val_loss,val_accuracy\n",
            "28/28 [==============================] - 1s 39ms/step - loss: 0.1651 - accuracy: 0.9418 - val_loss: 0.4943 - val_accuracy: 0.8725\n",
            "Epoch 10/20\n",
            "27/28 [===========================>..] - ETA: 0s - loss: 0.1470 - accuracy: 0.9525WARNING:tensorflow:Early stopping conditioned on metric `val_acc` which is not available. Available metrics are: loss,accuracy,val_loss,val_accuracy\n",
            "28/28 [==============================] - 1s 39ms/step - loss: 0.1444 - accuracy: 0.9530 - val_loss: 0.5490 - val_accuracy: 0.8691\n",
            "Epoch 11/20\n",
            "27/28 [===========================>..] - ETA: 0s - loss: 0.1569 - accuracy: 0.9468WARNING:tensorflow:Early stopping conditioned on metric `val_acc` which is not available. Available metrics are: loss,accuracy,val_loss,val_accuracy\n",
            "28/28 [==============================] - 1s 39ms/step - loss: 0.1524 - accuracy: 0.9485 - val_loss: 0.4568 - val_accuracy: 0.8691\n",
            "Epoch 12/20\n",
            "27/28 [===========================>..] - ETA: 0s - loss: 0.1700 - accuracy: 0.9502WARNING:tensorflow:Early stopping conditioned on metric `val_acc` which is not available. Available metrics are: loss,accuracy,val_loss,val_accuracy\n",
            "28/28 [==============================] - 1s 39ms/step - loss: 0.1687 - accuracy: 0.9508 - val_loss: 0.5423 - val_accuracy: 0.8591\n",
            "Epoch 13/20\n",
            "27/28 [===========================>..] - ETA: 0s - loss: 0.1507 - accuracy: 0.9525WARNING:tensorflow:Early stopping conditioned on metric `val_acc` which is not available. Available metrics are: loss,accuracy,val_loss,val_accuracy\n",
            "28/28 [==============================] - 1s 39ms/step - loss: 0.1520 - accuracy: 0.9519 - val_loss: 0.4674 - val_accuracy: 0.8758\n",
            "Epoch 14/20\n",
            "27/28 [===========================>..] - ETA: 0s - loss: 0.1738 - accuracy: 0.9421WARNING:tensorflow:Early stopping conditioned on metric `val_acc` which is not available. Available metrics are: loss,accuracy,val_loss,val_accuracy\n",
            "28/28 [==============================] - 1s 40ms/step - loss: 0.1710 - accuracy: 0.9430 - val_loss: 0.4948 - val_accuracy: 0.8758\n",
            "Epoch 15/20\n",
            "27/28 [===========================>..] - ETA: 0s - loss: 0.1490 - accuracy: 0.9560WARNING:tensorflow:Early stopping conditioned on metric `val_acc` which is not available. Available metrics are: loss,accuracy,val_loss,val_accuracy\n",
            "28/28 [==============================] - 1s 39ms/step - loss: 0.1541 - accuracy: 0.9541 - val_loss: 0.5351 - val_accuracy: 0.8758\n",
            "Epoch 16/20\n",
            "27/28 [===========================>..] - ETA: 0s - loss: 0.1476 - accuracy: 0.9514WARNING:tensorflow:Early stopping conditioned on metric `val_acc` which is not available. Available metrics are: loss,accuracy,val_loss,val_accuracy\n",
            "28/28 [==============================] - 1s 40ms/step - loss: 0.1484 - accuracy: 0.9519 - val_loss: 0.5157 - val_accuracy: 0.8859\n",
            "Epoch 17/20\n",
            "27/28 [===========================>..] - ETA: 0s - loss: 0.1595 - accuracy: 0.9433WARNING:tensorflow:Early stopping conditioned on metric `val_acc` which is not available. Available metrics are: loss,accuracy,val_loss,val_accuracy\n",
            "28/28 [==============================] - 1s 39ms/step - loss: 0.1607 - accuracy: 0.9407 - val_loss: 0.5360 - val_accuracy: 0.8792\n",
            "Epoch 18/20\n",
            "27/28 [===========================>..] - ETA: 0s - loss: 0.1254 - accuracy: 0.9641WARNING:tensorflow:Early stopping conditioned on metric `val_acc` which is not available. Available metrics are: loss,accuracy,val_loss,val_accuracy\n",
            "28/28 [==============================] - 1s 40ms/step - loss: 0.1221 - accuracy: 0.9653 - val_loss: 0.5842 - val_accuracy: 0.8658\n",
            "Epoch 19/20\n",
            "27/28 [===========================>..] - ETA: 0s - loss: 0.1119 - accuracy: 0.9606WARNING:tensorflow:Early stopping conditioned on metric `val_acc` which is not available. Available metrics are: loss,accuracy,val_loss,val_accuracy\n",
            "28/28 [==============================] - 1s 40ms/step - loss: 0.1193 - accuracy: 0.9586 - val_loss: 0.5855 - val_accuracy: 0.8926\n",
            "Epoch 20/20\n",
            "27/28 [===========================>..] - ETA: 0s - loss: 0.1105 - accuracy: 0.9606WARNING:tensorflow:Early stopping conditioned on metric `val_acc` which is not available. Available metrics are: loss,accuracy,val_loss,val_accuracy\n",
            "28/28 [==============================] - 1s 39ms/step - loss: 0.1078 - accuracy: 0.9620 - val_loss: 0.5642 - val_accuracy: 0.8859\n"
          ],
          "name": "stdout"
        }
      ]
    },
    {
      "cell_type": "code",
      "metadata": {
        "id": "4nrdC-2ERX_8",
        "colab_type": "code",
        "colab": {}
      },
      "source": [
        ""
      ],
      "execution_count": 0,
      "outputs": []
    },
    {
      "cell_type": "markdown",
      "metadata": {
        "id": "iNaqMGirRfPc",
        "colab_type": "text"
      },
      "source": [
        "# **Transfer Learning / Using Pre-Trained Models **"
      ]
    },
    {
      "cell_type": "code",
      "metadata": {
        "id": "VmoSGfNePS5C",
        "colab_type": "code",
        "outputId": "23b0f6b0-4479-463a-e062-0926be742dea",
        "colab": {
          "base_uri": "https://localhost:8080/",
          "height": 52
        }
      },
      "source": [
        "#Downloading the weights of VGG-16 Model\n",
        "from tensorflow.keras.applications.vgg16 import VGG16\n",
        "vgg16 = VGG16(include_top=False,\n",
        "              weights='imagenet',\n",
        "              input_shape=(224,224,3))"
      ],
      "execution_count": 0,
      "outputs": [
        {
          "output_type": "stream",
          "text": [
            "Downloading data from https://storage.googleapis.com/tensorflow/keras-applications/vgg16/vgg16_weights_tf_dim_ordering_tf_kernels_notop.h5\n",
            "58892288/58889256 [==============================] - 1s 0us/step\n"
          ],
          "name": "stdout"
        }
      ]
    },
    {
      "cell_type": "code",
      "metadata": {
        "id": "hWu9mq0cgrnB",
        "colab_type": "code",
        "outputId": "4a49f824-6684-41bb-eb50-443c2f01a1c7",
        "colab": {
          "base_uri": "https://localhost:8080/",
          "height": 328
        }
      },
      "source": [
        "#Keeping the pre-trained weights frozen and adding 2 more hidden layers on the top\n",
        "model4 = Sequential()\n",
        "model4.add(vgg16)\n",
        "model4.add(layers.Flatten())\n",
        "\n",
        "model4.add(layers.Dense(256, activation='relu'))\n",
        "model4.add(layers.Dropout(0.25))\n",
        "model4.add(layers.Dense(5, activation='softmax'))\n",
        "\n",
        "model4.layers[0].trainable = False\n",
        "\n",
        "\n",
        "model4.summary()\n",
        "\n",
        "\n",
        "model4.compile(\n",
        "    loss='categorical_crossentropy',\n",
        "    optimizer='adam',\n",
        "    metrics=['accuracy']\n",
        ")"
      ],
      "execution_count": 0,
      "outputs": [
        {
          "output_type": "stream",
          "text": [
            "Model: \"sequential_2\"\n",
            "_________________________________________________________________\n",
            "Layer (type)                 Output Shape              Param #   \n",
            "=================================================================\n",
            "vgg16 (Model)                (None, 7, 7, 512)         14714688  \n",
            "_________________________________________________________________\n",
            "flatten_2 (Flatten)          (None, 25088)             0         \n",
            "_________________________________________________________________\n",
            "dense_4 (Dense)              (None, 256)               6422784   \n",
            "_________________________________________________________________\n",
            "dropout_5 (Dropout)          (None, 256)               0         \n",
            "_________________________________________________________________\n",
            "dense_5 (Dense)              (None, 5)                 1285      \n",
            "=================================================================\n",
            "Total params: 21,138,757\n",
            "Trainable params: 6,424,069\n",
            "Non-trainable params: 14,714,688\n",
            "_________________________________________________________________\n"
          ],
          "name": "stdout"
        }
      ]
    },
    {
      "cell_type": "code",
      "metadata": {
        "id": "xKwzgvqFgr0F",
        "colab_type": "code",
        "outputId": "3ade2947-d378-4c2f-ecf0-edd177cf4598",
        "colab": {
          "base_uri": "https://localhost:8080/",
          "height": 1000
        }
      },
      "source": [
        "es1 = EarlyStopping(\n",
        "    monitor='val_acc', \n",
        "    mode='max',\n",
        "    patience=10\n",
        ")\n",
        "\n",
        "history4 = model4.fit(x_train, y_train,\n",
        "          validation_data=(x_valid, y_valid),\n",
        "          epochs=50,batch_size = 32,callbacks=[es1], verbose=1,shuffle=True)"
      ],
      "execution_count": 0,
      "outputs": [
        {
          "output_type": "stream",
          "text": [
            "Epoch 1/50\n",
            "28/28 [==============================] - ETA: 0s - loss: 3.2377 - accuracy: 0.4776WARNING:tensorflow:Early stopping conditioned on metric `val_acc` which is not available. Available metrics are: loss,accuracy,val_loss,val_accuracy\n",
            "28/28 [==============================] - 4s 143ms/step - loss: 3.2377 - accuracy: 0.4776 - val_loss: 0.9385 - val_accuracy: 0.6242\n",
            "Epoch 2/50\n",
            "28/28 [==============================] - ETA: 0s - loss: 0.6254 - accuracy: 0.7830WARNING:tensorflow:Early stopping conditioned on metric `val_acc` which is not available. Available metrics are: loss,accuracy,val_loss,val_accuracy\n",
            "28/28 [==============================] - 3s 105ms/step - loss: 0.6254 - accuracy: 0.7830 - val_loss: 0.6049 - val_accuracy: 0.8020\n",
            "Epoch 3/50\n",
            "28/28 [==============================] - ETA: 0s - loss: 0.3540 - accuracy: 0.8971WARNING:tensorflow:Early stopping conditioned on metric `val_acc` which is not available. Available metrics are: loss,accuracy,val_loss,val_accuracy\n",
            "28/28 [==============================] - 3s 105ms/step - loss: 0.3540 - accuracy: 0.8971 - val_loss: 0.4448 - val_accuracy: 0.8624\n",
            "Epoch 4/50\n",
            "28/28 [==============================] - ETA: 0s - loss: 0.2529 - accuracy: 0.9239WARNING:tensorflow:Early stopping conditioned on metric `val_acc` which is not available. Available metrics are: loss,accuracy,val_loss,val_accuracy\n",
            "28/28 [==============================] - 3s 105ms/step - loss: 0.2529 - accuracy: 0.9239 - val_loss: 0.3431 - val_accuracy: 0.8893\n",
            "Epoch 5/50\n",
            "28/28 [==============================] - ETA: 0s - loss: 0.1882 - accuracy: 0.9351WARNING:tensorflow:Early stopping conditioned on metric `val_acc` which is not available. Available metrics are: loss,accuracy,val_loss,val_accuracy\n",
            "28/28 [==============================] - 3s 105ms/step - loss: 0.1882 - accuracy: 0.9351 - val_loss: 0.3344 - val_accuracy: 0.8859\n",
            "Epoch 6/50\n",
            "28/28 [==============================] - ETA: 0s - loss: 0.1682 - accuracy: 0.9530WARNING:tensorflow:Early stopping conditioned on metric `val_acc` which is not available. Available metrics are: loss,accuracy,val_loss,val_accuracy\n",
            "28/28 [==============================] - 3s 105ms/step - loss: 0.1682 - accuracy: 0.9530 - val_loss: 0.3156 - val_accuracy: 0.9027\n",
            "Epoch 7/50\n",
            "28/28 [==============================] - ETA: 0s - loss: 0.1429 - accuracy: 0.9586WARNING:tensorflow:Early stopping conditioned on metric `val_acc` which is not available. Available metrics are: loss,accuracy,val_loss,val_accuracy\n",
            "28/28 [==============================] - 3s 105ms/step - loss: 0.1429 - accuracy: 0.9586 - val_loss: 0.2889 - val_accuracy: 0.9195\n",
            "Epoch 8/50\n",
            "28/28 [==============================] - ETA: 0s - loss: 0.1368 - accuracy: 0.9631WARNING:tensorflow:Early stopping conditioned on metric `val_acc` which is not available. Available metrics are: loss,accuracy,val_loss,val_accuracy\n",
            "28/28 [==============================] - 3s 105ms/step - loss: 0.1368 - accuracy: 0.9631 - val_loss: 0.2978 - val_accuracy: 0.9161\n",
            "Epoch 9/50\n",
            "28/28 [==============================] - ETA: 0s - loss: 0.1108 - accuracy: 0.9698WARNING:tensorflow:Early stopping conditioned on metric `val_acc` which is not available. Available metrics are: loss,accuracy,val_loss,val_accuracy\n",
            "28/28 [==============================] - 3s 105ms/step - loss: 0.1108 - accuracy: 0.9698 - val_loss: 0.2505 - val_accuracy: 0.9195\n",
            "Epoch 10/50\n",
            "28/28 [==============================] - ETA: 0s - loss: 0.1078 - accuracy: 0.9664WARNING:tensorflow:Early stopping conditioned on metric `val_acc` which is not available. Available metrics are: loss,accuracy,val_loss,val_accuracy\n",
            "28/28 [==============================] - 3s 105ms/step - loss: 0.1078 - accuracy: 0.9664 - val_loss: 0.2549 - val_accuracy: 0.9195\n",
            "Epoch 11/50\n",
            "28/28 [==============================] - ETA: 0s - loss: 0.0959 - accuracy: 0.9732WARNING:tensorflow:Early stopping conditioned on metric `val_acc` which is not available. Available metrics are: loss,accuracy,val_loss,val_accuracy\n",
            "28/28 [==============================] - 3s 105ms/step - loss: 0.0959 - accuracy: 0.9732 - val_loss: 0.2946 - val_accuracy: 0.9262\n",
            "Epoch 12/50\n",
            "28/28 [==============================] - ETA: 0s - loss: 0.1108 - accuracy: 0.9642WARNING:tensorflow:Early stopping conditioned on metric `val_acc` which is not available. Available metrics are: loss,accuracy,val_loss,val_accuracy\n",
            "28/28 [==============================] - 3s 105ms/step - loss: 0.1108 - accuracy: 0.9642 - val_loss: 0.2860 - val_accuracy: 0.9195\n",
            "Epoch 13/50\n",
            "28/28 [==============================] - ETA: 0s - loss: 0.0840 - accuracy: 0.9799WARNING:tensorflow:Early stopping conditioned on metric `val_acc` which is not available. Available metrics are: loss,accuracy,val_loss,val_accuracy\n",
            "28/28 [==============================] - 3s 105ms/step - loss: 0.0840 - accuracy: 0.9799 - val_loss: 0.2479 - val_accuracy: 0.9329\n",
            "Epoch 14/50\n",
            "28/28 [==============================] - ETA: 0s - loss: 0.0857 - accuracy: 0.9732WARNING:tensorflow:Early stopping conditioned on metric `val_acc` which is not available. Available metrics are: loss,accuracy,val_loss,val_accuracy\n",
            "28/28 [==============================] - 3s 105ms/step - loss: 0.0857 - accuracy: 0.9732 - val_loss: 0.2803 - val_accuracy: 0.9161\n",
            "Epoch 15/50\n",
            "28/28 [==============================] - ETA: 0s - loss: 0.0819 - accuracy: 0.9776WARNING:tensorflow:Early stopping conditioned on metric `val_acc` which is not available. Available metrics are: loss,accuracy,val_loss,val_accuracy\n",
            "28/28 [==============================] - 3s 105ms/step - loss: 0.0819 - accuracy: 0.9776 - val_loss: 0.2775 - val_accuracy: 0.9228\n",
            "Epoch 16/50\n",
            "28/28 [==============================] - ETA: 0s - loss: 0.0700 - accuracy: 0.9810WARNING:tensorflow:Early stopping conditioned on metric `val_acc` which is not available. Available metrics are: loss,accuracy,val_loss,val_accuracy\n",
            "28/28 [==============================] - 3s 105ms/step - loss: 0.0700 - accuracy: 0.9810 - val_loss: 0.2569 - val_accuracy: 0.9228\n",
            "Epoch 17/50\n",
            "28/28 [==============================] - ETA: 0s - loss: 0.0715 - accuracy: 0.9765WARNING:tensorflow:Early stopping conditioned on metric `val_acc` which is not available. Available metrics are: loss,accuracy,val_loss,val_accuracy\n",
            "28/28 [==============================] - 3s 105ms/step - loss: 0.0715 - accuracy: 0.9765 - val_loss: 0.2780 - val_accuracy: 0.9195\n",
            "Epoch 18/50\n",
            "28/28 [==============================] - ETA: 0s - loss: 0.0684 - accuracy: 0.9776WARNING:tensorflow:Early stopping conditioned on metric `val_acc` which is not available. Available metrics are: loss,accuracy,val_loss,val_accuracy\n",
            "28/28 [==============================] - 3s 105ms/step - loss: 0.0684 - accuracy: 0.9776 - val_loss: 0.2388 - val_accuracy: 0.9262\n",
            "Epoch 19/50\n",
            "28/28 [==============================] - ETA: 0s - loss: 0.0845 - accuracy: 0.9720WARNING:tensorflow:Early stopping conditioned on metric `val_acc` which is not available. Available metrics are: loss,accuracy,val_loss,val_accuracy\n",
            "28/28 [==============================] - 3s 105ms/step - loss: 0.0845 - accuracy: 0.9720 - val_loss: 0.3495 - val_accuracy: 0.9094\n",
            "Epoch 20/50\n",
            "28/28 [==============================] - ETA: 0s - loss: 0.1032 - accuracy: 0.9664WARNING:tensorflow:Early stopping conditioned on metric `val_acc` which is not available. Available metrics are: loss,accuracy,val_loss,val_accuracy\n",
            "28/28 [==============================] - 3s 105ms/step - loss: 0.1032 - accuracy: 0.9664 - val_loss: 0.2629 - val_accuracy: 0.9128\n",
            "Epoch 21/50\n",
            "28/28 [==============================] - ETA: 0s - loss: 0.0851 - accuracy: 0.9664WARNING:tensorflow:Early stopping conditioned on metric `val_acc` which is not available. Available metrics are: loss,accuracy,val_loss,val_accuracy\n",
            "28/28 [==============================] - 3s 105ms/step - loss: 0.0851 - accuracy: 0.9664 - val_loss: 0.2713 - val_accuracy: 0.9362\n",
            "Epoch 22/50\n",
            "28/28 [==============================] - ETA: 0s - loss: 0.0693 - accuracy: 0.9832WARNING:tensorflow:Early stopping conditioned on metric `val_acc` which is not available. Available metrics are: loss,accuracy,val_loss,val_accuracy\n",
            "28/28 [==============================] - 3s 105ms/step - loss: 0.0693 - accuracy: 0.9832 - val_loss: 0.3255 - val_accuracy: 0.9094\n",
            "Epoch 23/50\n",
            "28/28 [==============================] - ETA: 0s - loss: 0.0658 - accuracy: 0.9821WARNING:tensorflow:Early stopping conditioned on metric `val_acc` which is not available. Available metrics are: loss,accuracy,val_loss,val_accuracy\n",
            "28/28 [==============================] - 3s 104ms/step - loss: 0.0658 - accuracy: 0.9821 - val_loss: 0.2737 - val_accuracy: 0.9262\n",
            "Epoch 24/50\n",
            "28/28 [==============================] - ETA: 0s - loss: 0.0657 - accuracy: 0.9765WARNING:tensorflow:Early stopping conditioned on metric `val_acc` which is not available. Available metrics are: loss,accuracy,val_loss,val_accuracy\n",
            "28/28 [==============================] - 3s 104ms/step - loss: 0.0657 - accuracy: 0.9765 - val_loss: 0.2529 - val_accuracy: 0.9228\n",
            "Epoch 25/50\n",
            "28/28 [==============================] - ETA: 0s - loss: 0.0689 - accuracy: 0.9732WARNING:tensorflow:Early stopping conditioned on metric `val_acc` which is not available. Available metrics are: loss,accuracy,val_loss,val_accuracy\n",
            "28/28 [==============================] - 3s 104ms/step - loss: 0.0689 - accuracy: 0.9732 - val_loss: 0.2848 - val_accuracy: 0.9228\n",
            "Epoch 26/50\n",
            "28/28 [==============================] - ETA: 0s - loss: 0.0623 - accuracy: 0.9821WARNING:tensorflow:Early stopping conditioned on metric `val_acc` which is not available. Available metrics are: loss,accuracy,val_loss,val_accuracy\n",
            "28/28 [==============================] - 3s 104ms/step - loss: 0.0623 - accuracy: 0.9821 - val_loss: 0.3231 - val_accuracy: 0.9362\n",
            "Epoch 27/50\n",
            "28/28 [==============================] - ETA: 0s - loss: 0.0654 - accuracy: 0.9776WARNING:tensorflow:Early stopping conditioned on metric `val_acc` which is not available. Available metrics are: loss,accuracy,val_loss,val_accuracy\n",
            "28/28 [==============================] - 3s 105ms/step - loss: 0.0654 - accuracy: 0.9776 - val_loss: 0.4091 - val_accuracy: 0.9060\n",
            "Epoch 28/50\n",
            "28/28 [==============================] - ETA: 0s - loss: 0.0685 - accuracy: 0.9832WARNING:tensorflow:Early stopping conditioned on metric `val_acc` which is not available. Available metrics are: loss,accuracy,val_loss,val_accuracy\n",
            "28/28 [==============================] - 3s 105ms/step - loss: 0.0685 - accuracy: 0.9832 - val_loss: 0.2335 - val_accuracy: 0.9362\n",
            "Epoch 29/50\n",
            "28/28 [==============================] - ETA: 0s - loss: 0.0398 - accuracy: 0.9911WARNING:tensorflow:Early stopping conditioned on metric `val_acc` which is not available. Available metrics are: loss,accuracy,val_loss,val_accuracy\n",
            "28/28 [==============================] - 3s 106ms/step - loss: 0.0398 - accuracy: 0.9911 - val_loss: 0.3060 - val_accuracy: 0.9329\n",
            "Epoch 30/50\n",
            "28/28 [==============================] - ETA: 0s - loss: 0.0527 - accuracy: 0.9821WARNING:tensorflow:Early stopping conditioned on metric `val_acc` which is not available. Available metrics are: loss,accuracy,val_loss,val_accuracy\n",
            "28/28 [==============================] - 3s 105ms/step - loss: 0.0527 - accuracy: 0.9821 - val_loss: 0.2319 - val_accuracy: 0.9362\n",
            "Epoch 31/50\n",
            "28/28 [==============================] - ETA: 0s - loss: 0.0521 - accuracy: 0.9843WARNING:tensorflow:Early stopping conditioned on metric `val_acc` which is not available. Available metrics are: loss,accuracy,val_loss,val_accuracy\n",
            "28/28 [==============================] - 3s 105ms/step - loss: 0.0521 - accuracy: 0.9843 - val_loss: 0.2837 - val_accuracy: 0.9195\n",
            "Epoch 32/50\n",
            "28/28 [==============================] - ETA: 0s - loss: 0.0561 - accuracy: 0.9799WARNING:tensorflow:Early stopping conditioned on metric `val_acc` which is not available. Available metrics are: loss,accuracy,val_loss,val_accuracy\n",
            "28/28 [==============================] - 3s 105ms/step - loss: 0.0561 - accuracy: 0.9799 - val_loss: 0.3042 - val_accuracy: 0.9262\n",
            "Epoch 33/50\n",
            "28/28 [==============================] - ETA: 0s - loss: 0.0552 - accuracy: 0.9787WARNING:tensorflow:Early stopping conditioned on metric `val_acc` which is not available. Available metrics are: loss,accuracy,val_loss,val_accuracy\n",
            "28/28 [==============================] - 3s 105ms/step - loss: 0.0552 - accuracy: 0.9787 - val_loss: 0.2375 - val_accuracy: 0.9329\n",
            "Epoch 34/50\n",
            "28/28 [==============================] - ETA: 0s - loss: 0.0381 - accuracy: 0.9866WARNING:tensorflow:Early stopping conditioned on metric `val_acc` which is not available. Available metrics are: loss,accuracy,val_loss,val_accuracy\n",
            "28/28 [==============================] - 3s 105ms/step - loss: 0.0381 - accuracy: 0.9866 - val_loss: 0.2477 - val_accuracy: 0.9362\n",
            "Epoch 35/50\n",
            "28/28 [==============================] - ETA: 0s - loss: 0.0479 - accuracy: 0.9855WARNING:tensorflow:Early stopping conditioned on metric `val_acc` which is not available. Available metrics are: loss,accuracy,val_loss,val_accuracy\n",
            "28/28 [==============================] - 3s 105ms/step - loss: 0.0479 - accuracy: 0.9855 - val_loss: 0.2424 - val_accuracy: 0.9430\n",
            "Epoch 36/50\n",
            "28/28 [==============================] - ETA: 0s - loss: 0.0431 - accuracy: 0.9888WARNING:tensorflow:Early stopping conditioned on metric `val_acc` which is not available. Available metrics are: loss,accuracy,val_loss,val_accuracy\n",
            "28/28 [==============================] - 3s 105ms/step - loss: 0.0431 - accuracy: 0.9888 - val_loss: 0.2708 - val_accuracy: 0.9262\n",
            "Epoch 37/50\n",
            "28/28 [==============================] - ETA: 0s - loss: 0.0504 - accuracy: 0.9843WARNING:tensorflow:Early stopping conditioned on metric `val_acc` which is not available. Available metrics are: loss,accuracy,val_loss,val_accuracy\n",
            "28/28 [==============================] - 3s 105ms/step - loss: 0.0504 - accuracy: 0.9843 - val_loss: 0.2397 - val_accuracy: 0.9396\n",
            "Epoch 38/50\n",
            "28/28 [==============================] - ETA: 0s - loss: 0.0480 - accuracy: 0.9855WARNING:tensorflow:Early stopping conditioned on metric `val_acc` which is not available. Available metrics are: loss,accuracy,val_loss,val_accuracy\n",
            "28/28 [==============================] - 3s 105ms/step - loss: 0.0480 - accuracy: 0.9855 - val_loss: 0.3395 - val_accuracy: 0.9195\n",
            "Epoch 39/50\n",
            "28/28 [==============================] - ETA: 0s - loss: 0.0500 - accuracy: 0.9832WARNING:tensorflow:Early stopping conditioned on metric `val_acc` which is not available. Available metrics are: loss,accuracy,val_loss,val_accuracy\n",
            "28/28 [==============================] - 3s 105ms/step - loss: 0.0500 - accuracy: 0.9832 - val_loss: 0.2552 - val_accuracy: 0.9262\n",
            "Epoch 40/50\n",
            "28/28 [==============================] - ETA: 0s - loss: 0.0517 - accuracy: 0.9877WARNING:tensorflow:Early stopping conditioned on metric `val_acc` which is not available. Available metrics are: loss,accuracy,val_loss,val_accuracy\n",
            "28/28 [==============================] - 3s 105ms/step - loss: 0.0517 - accuracy: 0.9877 - val_loss: 0.2912 - val_accuracy: 0.9396\n",
            "Epoch 41/50\n",
            "28/28 [==============================] - ETA: 0s - loss: 0.0444 - accuracy: 0.9832WARNING:tensorflow:Early stopping conditioned on metric `val_acc` which is not available. Available metrics are: loss,accuracy,val_loss,val_accuracy\n",
            "28/28 [==============================] - 3s 105ms/step - loss: 0.0444 - accuracy: 0.9832 - val_loss: 0.2728 - val_accuracy: 0.9463\n",
            "Epoch 42/50\n",
            "28/28 [==============================] - ETA: 0s - loss: 0.0640 - accuracy: 0.9799WARNING:tensorflow:Early stopping conditioned on metric `val_acc` which is not available. Available metrics are: loss,accuracy,val_loss,val_accuracy\n",
            "28/28 [==============================] - 3s 105ms/step - loss: 0.0640 - accuracy: 0.9799 - val_loss: 0.4034 - val_accuracy: 0.8993\n",
            "Epoch 43/50\n",
            "28/28 [==============================] - ETA: 0s - loss: 0.0664 - accuracy: 0.9787WARNING:tensorflow:Early stopping conditioned on metric `val_acc` which is not available. Available metrics are: loss,accuracy,val_loss,val_accuracy\n",
            "28/28 [==============================] - 3s 105ms/step - loss: 0.0664 - accuracy: 0.9787 - val_loss: 0.2415 - val_accuracy: 0.9329\n",
            "Epoch 44/50\n",
            "28/28 [==============================] - ETA: 0s - loss: 0.0498 - accuracy: 0.9888WARNING:tensorflow:Early stopping conditioned on metric `val_acc` which is not available. Available metrics are: loss,accuracy,val_loss,val_accuracy\n",
            "28/28 [==============================] - 3s 105ms/step - loss: 0.0498 - accuracy: 0.9888 - val_loss: 0.2672 - val_accuracy: 0.9195\n",
            "Epoch 45/50\n",
            "28/28 [==============================] - ETA: 0s - loss: 0.0536 - accuracy: 0.9843WARNING:tensorflow:Early stopping conditioned on metric `val_acc` which is not available. Available metrics are: loss,accuracy,val_loss,val_accuracy\n",
            "28/28 [==============================] - 3s 105ms/step - loss: 0.0536 - accuracy: 0.9843 - val_loss: 0.2417 - val_accuracy: 0.9362\n",
            "Epoch 46/50\n",
            "28/28 [==============================] - ETA: 0s - loss: 0.0468 - accuracy: 0.9866WARNING:tensorflow:Early stopping conditioned on metric `val_acc` which is not available. Available metrics are: loss,accuracy,val_loss,val_accuracy\n",
            "28/28 [==============================] - 3s 105ms/step - loss: 0.0468 - accuracy: 0.9866 - val_loss: 0.3196 - val_accuracy: 0.9228\n",
            "Epoch 47/50\n",
            "28/28 [==============================] - ETA: 0s - loss: 0.0495 - accuracy: 0.9843WARNING:tensorflow:Early stopping conditioned on metric `val_acc` which is not available. Available metrics are: loss,accuracy,val_loss,val_accuracy\n",
            "28/28 [==============================] - 3s 105ms/step - loss: 0.0495 - accuracy: 0.9843 - val_loss: 0.2546 - val_accuracy: 0.9430\n",
            "Epoch 48/50\n",
            "28/28 [==============================] - ETA: 0s - loss: 0.0352 - accuracy: 0.9866WARNING:tensorflow:Early stopping conditioned on metric `val_acc` which is not available. Available metrics are: loss,accuracy,val_loss,val_accuracy\n",
            "28/28 [==============================] - 3s 105ms/step - loss: 0.0352 - accuracy: 0.9866 - val_loss: 0.3070 - val_accuracy: 0.9396\n",
            "Epoch 49/50\n",
            "28/28 [==============================] - ETA: 0s - loss: 0.0593 - accuracy: 0.9810WARNING:tensorflow:Early stopping conditioned on metric `val_acc` which is not available. Available metrics are: loss,accuracy,val_loss,val_accuracy\n",
            "28/28 [==============================] - 3s 105ms/step - loss: 0.0593 - accuracy: 0.9810 - val_loss: 0.3831 - val_accuracy: 0.9362\n",
            "Epoch 50/50\n",
            "28/28 [==============================] - ETA: 0s - loss: 0.0531 - accuracy: 0.9821WARNING:tensorflow:Early stopping conditioned on metric `val_acc` which is not available. Available metrics are: loss,accuracy,val_loss,val_accuracy\n",
            "28/28 [==============================] - 3s 105ms/step - loss: 0.0531 - accuracy: 0.9821 - val_loss: 0.3380 - val_accuracy: 0.9329\n"
          ],
          "name": "stdout"
        }
      ]
    },
    {
      "cell_type": "code",
      "metadata": {
        "id": "crVXb5tHShtA",
        "colab_type": "code",
        "colab": {}
      },
      "source": [
        ""
      ],
      "execution_count": 0,
      "outputs": []
    },
    {
      "cell_type": "markdown",
      "metadata": {
        "id": "5wLq-uf2Simc",
        "colab_type": "text"
      },
      "source": [
        "**Creation of Testing Dataset**"
      ]
    },
    {
      "cell_type": "code",
      "metadata": {
        "id": "cxZlljqqS5X6",
        "colab_type": "code",
        "colab": {}
      },
      "source": [
        "#Converting video into images by extracting frames from the testing video.\n",
        "i=0\n",
        "count=0\n",
        "cap = cv2.VideoCapture('Test Tom and Jerry.mp4')\n",
        "frame_rate = cap.get(cv2.CAP_PROP_FPS)\n",
        "while True:\n",
        "    cap.set(cv2.CAP_PROP_POS_FRAMES, count)\n",
        "    count += math.floor(frame_rate)\n",
        "    print(count)\n",
        "    ret, frame = cap.read()\n",
        "    \n",
        "    \n",
        "    if ret != True :\n",
        "        break\n",
        "        \n",
        "    cv2.imwrite(\"Test images/\"+\"frame\"+str(i)+\".jpg\",frame)\n",
        "    i+=1\n",
        "    \n",
        "cap.release()\n",
        "    \n"
      ],
      "execution_count": 0,
      "outputs": []
    },
    {
      "cell_type": "code",
      "metadata": {
        "id": "YLXCbAzOgr-G",
        "colab_type": "code",
        "colab": {}
      },
      "source": [
        "os.chdir('/content/drive/My Drive/Dataset Tom and Jerry/Test images')"
      ],
      "execution_count": 0,
      "outputs": []
    },
    {
      "cell_type": "code",
      "metadata": {
        "id": "uoJuTS7ugsFM",
        "colab_type": "code",
        "outputId": "232e29a6-5463-4593-f317-0ba4e31ef47b",
        "colab": {
          "base_uri": "https://localhost:8080/",
          "height": 35
        }
      },
      "source": [
        "c=os.listdir()\n",
        "len(c)"
      ],
      "execution_count": 0,
      "outputs": [
        {
          "output_type": "execute_result",
          "data": {
            "text/plain": [
              "186"
            ]
          },
          "metadata": {
            "tags": []
          },
          "execution_count": 46
        }
      ]
    },
    {
      "cell_type": "code",
      "metadata": {
        "id": "uRpMA8JKgsIv",
        "colab_type": "code",
        "colab": {}
      },
      "source": [
        "#Resizing images to a shape of (224,224,3) and converting images into a numpy array. Also the frame number is stored inside the test_frames list.\n",
        "test_data=[]\n",
        "test_frames=[]\n",
        "for i in range(len(c)):\n",
        "    image_arr = cv2.imread(c[i])\n",
        "    test_data.append(cv2.resize(image_arr, (224,224), interpolation = cv2.INTER_CUBIC))\n",
        "    test_frames.append(c[i])"
      ],
      "execution_count": 0,
      "outputs": []
    },
    {
      "cell_type": "code",
      "metadata": {
        "id": "Vf4YO22agsDk",
        "colab_type": "code",
        "outputId": "6ca20885-980b-4a9e-8446-58f1f286aea5",
        "colab": {
          "base_uri": "https://localhost:8080/",
          "height": 35
        }
      },
      "source": [
        "x_test = np.array((test_data))\n",
        "x_frames =np.array((test_frames))\n",
        "x_frames = x_frames.reshape(186,1)\n",
        "x_test.shape,x_frames.shape"
      ],
      "execution_count": 0,
      "outputs": [
        {
          "output_type": "execute_result",
          "data": {
            "text/plain": [
              "((186, 224, 224, 3), (186, 1))"
            ]
          },
          "metadata": {
            "tags": []
          },
          "execution_count": 50
        }
      ]
    },
    {
      "cell_type": "markdown",
      "metadata": {
        "id": "eFRYopbZVdlE",
        "colab_type": "text"
      },
      "source": [
        "## ***Predictions made using Self Proposed CNN Architecture***"
      ]
    },
    {
      "cell_type": "code",
      "metadata": {
        "id": "0r6VoihrgsBt",
        "colab_type": "code",
        "colab": {}
      },
      "source": [
        "predictions = model.predict(x_test)\n",
        "p = [np.argmax(model.predict(np.expand_dims(feature, axis=0))) for feature in x_test]\n"
      ],
      "execution_count": 0,
      "outputs": []
    },
    {
      "cell_type": "code",
      "metadata": {
        "id": "jpRze8G4gr70",
        "colab_type": "code",
        "colab": {}
      },
      "source": [
        "#Decoding prediction labels\n",
        "final_p = []\n",
        "for i in range(len(p)):\n",
        "    if p[i]==0:\n",
        "        final_p.append('Unknown')\n",
        "    elif p[i]==1:\n",
        "        final_p.append('angry')\n",
        "    elif p[i]==2:\n",
        "        final_p.append('happy')\n",
        "    elif p[i]==3:\n",
        "        final_p.append('sad')\n",
        "    elif p[i]==4:\n",
        "        final_p.append('surprised')\n",
        "        "
      ],
      "execution_count": 0,
      "outputs": []
    },
    {
      "cell_type": "code",
      "metadata": {
        "id": "YIPnJZ2Rgr5z",
        "colab_type": "code",
        "outputId": "98dffd34-71ee-4a08-ab4b-4764fb8fe536",
        "colab": {
          "base_uri": "https://localhost:8080/",
          "height": 35
        }
      },
      "source": [
        "result = np.array((final_p))\n",
        "result = result.reshape(186,1)\n",
        "result.shape"
      ],
      "execution_count": 0,
      "outputs": [
        {
          "output_type": "execute_result",
          "data": {
            "text/plain": [
              "(186, 1)"
            ]
          },
          "metadata": {
            "tags": []
          },
          "execution_count": 53
        }
      ]
    },
    {
      "cell_type": "code",
      "metadata": {
        "id": "gLm35iJJgr3_",
        "colab_type": "code",
        "colab": {}
      },
      "source": [
        "#Putting frames with corresponding predictions to convert it into a csv file\n",
        "z = [x_frames,result]\n",
        "z = np.array((z))\n",
        "final = z.T\n",
        "final=final.reshape(186,2)"
      ],
      "execution_count": 0,
      "outputs": []
    },
    {
      "cell_type": "code",
      "metadata": {
        "id": "l8EkpB3lgrqw",
        "colab_type": "code",
        "colab": {}
      },
      "source": [
        "#Saving the results into a csv file\n",
        "np.savetxt('../Self_proposed_CNN_test.csv',final,delimiter=',',fmt='%s')"
      ],
      "execution_count": 0,
      "outputs": []
    },
    {
      "cell_type": "markdown",
      "metadata": {
        "id": "8LSRsG24cYJJ",
        "colab_type": "text"
      },
      "source": [
        "## **Predictions made using Pre-Trained VGG-16 Model**"
      ]
    },
    {
      "cell_type": "code",
      "metadata": {
        "id": "t-osi2-ucj4F",
        "colab_type": "code",
        "colab": {}
      },
      "source": [
        "predictions = model4.predict(x_test)\n",
        "p_vgg16 = [np.argmax(model4.predict(np.expand_dims(feature, axis=0))) for feature in x_test]\n"
      ],
      "execution_count": 0,
      "outputs": []
    },
    {
      "cell_type": "code",
      "metadata": {
        "id": "YHWdqMRlcqgu",
        "colab_type": "code",
        "colab": {}
      },
      "source": [
        "#Decoding prediction labels\n",
        "final_p = []\n",
        "for i in range(len(p)):\n",
        "    if p_vgg16[i]==0:\n",
        "        final_p.append('Unknown')\n",
        "    elif p_vgg16[i]==1:\n",
        "        final_p.append('angry')\n",
        "    elif p_vgg16[i]==2:\n",
        "        final_p.append('happy')\n",
        "    elif p_vgg16[i]==3:\n",
        "        final_p.append('sad')\n",
        "    elif p_vgg16[i]==4:\n",
        "        final_p.append('surprised')\n",
        "        "
      ],
      "execution_count": 0,
      "outputs": []
    },
    {
      "cell_type": "code",
      "metadata": {
        "id": "Vsm61ro6csSm",
        "colab_type": "code",
        "colab": {}
      },
      "source": [
        "result_vgg16 = np.array((final_p))\n",
        "result_vgg16 = result_vgg16.reshape(186,1)"
      ],
      "execution_count": 0,
      "outputs": []
    },
    {
      "cell_type": "code",
      "metadata": {
        "id": "xnaEXYdKdBn0",
        "colab_type": "code",
        "colab": {}
      },
      "source": [
        "#Putting frames with corresponding predictions to convert it into a csv file\n",
        "z = [x_frames,result_vgg16]\n",
        "z = np.array((z))\n",
        "final_vgg16 = z.T\n",
        "final_vgg16=final_vgg16.reshape(186,2)"
      ],
      "execution_count": 0,
      "outputs": []
    },
    {
      "cell_type": "code",
      "metadata": {
        "id": "nsnLNzAcd5V5",
        "colab_type": "code",
        "colab": {}
      },
      "source": [
        "#Saving the results into a csv file\n",
        "np.savetxt('../VGG_16_test.csv',final,delimiter=',',fmt='%s')"
      ],
      "execution_count": 0,
      "outputs": []
    }
  ]
}